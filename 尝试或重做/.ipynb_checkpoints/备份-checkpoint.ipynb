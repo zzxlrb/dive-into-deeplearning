{
 "cells": [
  {
   "cell_type": "markdown",
   "id": "ad63ae06",
   "metadata": {},
   "source": [
    "本次对比学习实验以pytorch作为基础框架。"
   ]
  },
  {
   "cell_type": "code",
   "execution_count": null,
   "id": "7e0a2f4a",
   "metadata": {},
   "outputs": [],
   "source": [
    "import matplotlib\n",
    "from d2l import torch as d2l\n",
    "import torch\n",
    "from sklearn.manifold import TSNE\n",
    "import numpy as np\n",
    "from torch import nn\n",
    "from torchvision import datasets, transforms\n",
    "from torch.utils.data import DataLoader\n",
    "import matplotlib.pyplot as plt\n",
    "from mpl_toolkits.mplot3d import Axes3D"
   ]
  },
  {
   "cell_type": "markdown",
   "id": "50c43290",
   "metadata": {},
   "source": [
    "该模型是自动编码器，包含一个编码器和一个解码器两部分。\n",
    "编码器部分由三层卷积层组成，每层后接批标准化和LeakyReLU激活函数，最终通过Flatten层将特征图展平成一维向量，再通过一个全连接层将其映射到128维的潜在空间。解码器部分首先通过一个全连接层将潜在向量重新映射回特征图的形状，然后通过两层转置卷积层，每层后接批标准化和LeakyReLU激活函数，最终输出一层Sigmoid激活函数，生成最终重建的图像。"
   ]
  },
  {
   "cell_type": "code",
   "execution_count": null,
   "id": "8823b426",
   "metadata": {},
   "outputs": [],
   "source": [
    "class AutoEDcoder(nn.Module):\n",
    "    def __init__(self):\n",
    "        super(AutoEDcoder, self).__init__()\n",
    "        # Encoder\n",
    "        self.encoder = nn.Sequential(\n",
    "            nn.Conv2d(in_channels=1, out_channels=3, kernel_size=3, stride=2, padding=1),\n",
    "            nn.BatchNorm2d(3),\n",
    "            nn.LeakyReLU(),\n",
    "            nn.Conv2d(3, 9, 3, 2, 1),\n",
    "            nn.BatchNorm2d(9),\n",
    "            nn.LeakyReLU(),\n",
    "            nn.Conv2d(9, 18, 3, 2, 1),\n",
    "            nn.BatchNorm2d(18),\n",
    "            nn.LeakyReLU(),\n",
    "            nn.Flatten()\n",
    "        )\n",
    "        self.fc1 = nn.Linear(18 * 4 * 4, 128)\n",
    "        self.fc2 = nn.Linear(128, 18 * 7 * 7)\n",
    "\n",
    "        # Decoder\n",
    "        self.decoder = nn.Sequential(\n",
    "            nn.ConvTranspose2d(18, 9, 3, 2, 1, output_padding=1),\n",
    "            nn.BatchNorm2d(9),\n",
    "            nn.LeakyReLU(),\n",
    "            nn.ConvTranspose2d(9, 1, 3, 2, 1, output_padding=1),\n",
    "            nn.BatchNorm2d(1),\n",
    "            nn.LeakyReLU(),\n",
    "            nn.Sigmoid()\n",
    "        )\n",
    "\n",
    "    def forward(self, x):\n",
    "        # Encoder\n",
    "        x = self.encoder(x)\n",
    "        code = self.fc1(x)\n",
    "        # Decoder\n",
    "        x = self.fc2(code)\n",
    "        x = x.view(x.size(0), 18, 7, 7)\n",
    "        out = self.decoder(x)\n",
    "        return out"
   ]
  },
  {
   "cell_type": "markdown",
   "id": "27157aad",
   "metadata": {},
   "source": [
    "定义训练模型函数。\n",
    "首先，将模型移动到指定的设备（CPU或GPU）并设置为训练模式。然后，进入训练循环，对每个训练周期（epoch）执行以下步骤：\n",
    "- 1）初始化累计损失为零\n",
    "- 2）从训练数据加载器中批量获取输入数据和标签，并将它们移动到指定设备上\n",
    "- 3）将优化器梯度置零\n",
    "- 4）将输入数据传入模型，获得预测输出\n",
    "- 5）计算输入数据与预测输出之间的均方误差（MSE）损失\n",
    "- 6）反向传播损失，更新模型参数\n",
    "- 7）累计当前批次的损失值。每个周期结束后，打印该周期的总损失，并将其添加到损失列表中以供后续分析。"
   ]
  },
  {
   "cell_type": "code",
   "execution_count": null,
   "id": "d64993be",
   "metadata": {},
   "outputs": [],
   "source": [
    "def train(model, device, train_loader, optimizer, epochs):\n",
    "    model = model.to(device)\n",
    "    model.train(True)\n",
    "    for epoch in range(epochs):\n",
    "        total_loss = 0.0\n",
    "        for x, y in train_loader:\n",
    "            x, y = x.to(device), y.to(device)\n",
    "            optimizer.zero_grad()\n",
    "            y_pred = model(x)\n",
    "            loss = nn.MSELoss()(x, y_pred)\n",
    "            loss.backward()\n",
    "            optimizer.step()\n",
    "            total_loss += loss.item()\n",
    "        print(f'epoch:{epoch}  total_loss:{total_loss}')\n",
    "        loss_list.append(total_loss)"
   ]
  },
  {
   "cell_type": "markdown",
   "id": "62d13d83",
   "metadata": {},
   "source": [
    "eval函数用于评估自动编码器模型的性能。首先，将模型移动到指定设备并设置为评估模式，禁用梯度计算以节省内存和计算资源。然后，在测试数据集上迭代，对每个输入数据进行预测并可视化前16个原始和重构图像。接下来，绘制训练过程中每个epoch的损失变化曲线。之后，通过模型的编码器部分提取特征，并使用t-SNE算法将这些高维特征降维到二维进行可视化，最后绘制散点图，展示不同类别的样本在特征空间中的分布情况。"
   ]
  },
  {
   "cell_type": "code",
   "execution_count": null,
   "id": "df4052c1",
   "metadata": {},
   "outputs": [],
   "source": [
    "def eval(model, device, test_loader, epochs):\n",
    "    model = model.to(device)\n",
    "    model.eval()\n",
    "    with torch.no_grad():\n",
    "        for x, _ in test_loader:\n",
    "            x = x.to(device)\n",
    "            y_pred = model(x)\n",
    "            # 可视化重构结果和原始图像\n",
    "            fig, axes = plt.subplots(16, 2, figsize=(x[0].size(0) * 2, x[0].size(1) / 1.5))\n",
    "            axes[0, 0].set_title('Original')\n",
    "            axes[0, 1].set_title('Reconstructed')\n",
    "            # 原始图像\n",
    "            for i in range(16):\n",
    "                # 原始图像\n",
    "                axes[i, 0].imshow(x[i].cpu().squeeze(), cmap='gray')\n",
    "                axes[i, 0].axis('off')\n",
    "\n",
    "                # 重构图像\n",
    "                axes[i, 1].imshow(y_pred[i].cpu().squeeze(), cmap='gray')\n",
    "                axes[i, 1].axis('off')\n",
    "            plt.tight_layout()\n",
    "            plt.show()\n",
    "            break\n",
    "    x = [i for i in range(epochs)]\n",
    "    plt.plot(x, loss_list)\n",
    "    plt.xlabel('Epochs')\n",
    "    plt.ylabel('Loss')\n",
    "    plt.show()\n",
    "    model.eval()\n",
    "    encoded_features = []  # 用于保存编码后的特征\n",
    "    original_labels = []  # 用于保存原始标签\n",
    "    with torch.no_grad():\n",
    "        for data in test_loader:\n",
    "            anchor_imgs,labels = data\n",
    "            anchor_imgs = anchor_imgs.to(device)\n",
    "            anchor_outputs = model.encoder(anchor_imgs)\n",
    "            encoded_features.extend(anchor_outputs.cpu().numpy())\n",
    "            original_labels.extend(labels.cpu().numpy())\n",
    "            if len(encoded_features) >= 7000:\n",
    "                break\n",
    "    encoded_features = np.array(encoded_features)\n",
    "    tsne = TSNE(n_components=2, random_state=42)\n",
    "    encoded_features_tsne = tsne.fit_transform(encoded_features)\n",
    "    plt.rcParams['font.sans-serif'] = ['SimHei'] \n",
    "    plt.rcParams['axes.unicode_minus'] = False \n",
    "    plt.figure(figsize=(12, 10))  \n",
    "    plt.scatter(encoded_features_tsne[:, 0], encoded_features_tsne[:, 1], c=original_labels, cmap=plt.cm.tab10,\n",
    "                marker='o', alpha=0.7)  \n",
    "    plt.colorbar(ticks=range(10))\n",
    "    plt.title('自动编码器的 t-SNE 可视化')\n",
    "    plt.xlabel('特征1')\n",
    "    plt.ylabel('特征2')\n",
    "    plt.grid(True)  # 添加网格线\n",
    "    plt.show()"
   ]
  },
  {
   "cell_type": "markdown",
   "id": "c42cc533",
   "metadata": {},
   "source": [
    "- 定义批处理大小和损失列表\n",
    "- 定义数据预处理转换\n",
    "- 加载Mnist数据集并创建数据加载器\n",
    "- 设置有关数据集基本参数"
   ]
  },
  {
   "cell_type": "code",
   "execution_count": null,
   "id": "3af2b8a7",
   "metadata": {},
   "outputs": [],
   "source": [
    "batch_size = 128\n",
    "\n",
    "loss_list = []\n",
    "\n",
    "transform = transforms.Compose(\n",
    "    [transforms.ToTensor(),\n",
    "     transforms.Normalize([0.5], [0.5])])\n",
    "\n",
    "train_data = datasets.MNIST(root='../data', train=True, transform=transform, download=True)\n",
    "test_data = datasets.MNIST(root='../data', train=False, transform=transform, download=True)\n",
    "\n",
    "train_loader = torch.utils.data.DataLoader(train_data, batch_size=batch_size, shuffle=True)\n",
    "test_loader = torch.utils.data.DataLoader(test_data, batch_size=batch_size, shuffle=True)\n",
    "\n",
    "size = 1 * 28 * 28\n",
    "device = torch.device('cuda' if torch.cuda.is_available() else 'cpu')"
   ]
  },
  {
   "cell_type": "markdown",
   "id": "d36a9f3c",
   "metadata": {},
   "source": [
    "- 实例化模型\n",
    "- 设置训练参数：\n",
    "- 设置训练的轮数为25。\n",
    "- 使用Adam优化器，并设置学习率为0.3。\n",
    "- 训练模型\n",
    "- 模型评估"
   ]
  },
  {
   "cell_type": "code",
   "execution_count": null,
   "id": "b0718c15",
   "metadata": {},
   "outputs": [],
   "source": [
    "net = AutoEDcoder()\n",
    "epochs = 25\n",
    "train(model=net, device=device, train_loader=train_loader, optimizer=torch.optim.Adam(net.parameters(), lr=0.3),\n",
    "      epochs=epochs)\n",
    "eval(net, device=device, test_loader=test_loader, epochs=epochs)"
   ]
  }
 ],
 "metadata": {
  "kernelspec": {
   "display_name": "Python 3 (ipykernel)",
   "language": "python",
   "name": "python3"
  },
  "language_info": {
   "codemirror_mode": {
    "name": "ipython",
    "version": 3
   },
   "file_extension": ".py",
   "mimetype": "text/x-python",
   "name": "python",
   "nbconvert_exporter": "python",
   "pygments_lexer": "ipython3",
   "version": "3.11.7"
  }
 },
 "nbformat": 4,
 "nbformat_minor": 5
}
